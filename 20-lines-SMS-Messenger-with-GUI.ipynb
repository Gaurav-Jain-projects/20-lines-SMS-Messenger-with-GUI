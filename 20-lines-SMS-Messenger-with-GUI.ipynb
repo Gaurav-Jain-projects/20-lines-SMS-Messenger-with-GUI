{
 "cells": [
  {
   "cell_type": "code",
   "execution_count": null,
   "metadata": {
    "collapsed": true
   },
   "outputs": [],
   "source": [
    "import requests\n",
    "import json\n",
    "from tkinter import *\n",
    "from tkinter.messagebox import showinfo, showerror\n",
    "\n",
    "#For API Key\n",
    "def send_sms(number,text):\n",
    "    url = 'https://www.fast2sms.com/dev/bulk'\n",
    "    parameter={\n",
    "        'authorization':'here authorization key',\n",
    "        'sender_id':'FSTSMS',\n",
    "        'message':text,\n",
    "        'language':'english',\n",
    "        'route':'p',\n",
    "        'numbers':number\n",
    "    }\n",
    "    response=requests.get(url,params=parameter)\n",
    "    dic = response.json()\n",
    "    print(dic)\n",
    "    return dic.get('return')\n",
    "\n",
    "#For Button\n",
    "def btn_click():\n",
    "    num=textNumber.get()\n",
    "    msg=textMsg.get(\"1.0\",END)\n",
    "    r = send_sms(num, msg)\n",
    "    if r==True:\n",
    "        showinfo(\"Send Success\", \"Successfully Sent\")\n",
    "    else:\n",
    "        showerror(\"Error\", \"Something Went Wrong\")\n",
    "        \n",
    "#Creating GUI\n",
    "root=Tk()\n",
    "root.title(\"Message Sender\")\n",
    "root.geometry(\"350x500\")\n",
    "font = (\"Helvetica\",22,\"bold\")\n",
    "textNumber=Entry(root,font=font)\n",
    "textNumber.pack(fill=X,pady=20)\n",
    "textMsg=Text(root)\n",
    "textMsg.pack(fill=X)\n",
    "sendBtn = Button(root,text=\"Send SMS\", command=btn_click)\n",
    "sendBtn.pack()\n",
    "root.mainloop()\n"
   ]
  }
 ],
 "metadata": {
  "kernelspec": {
   "display_name": "Python 3",
   "language": "python",
   "name": "python3"
  },
  "language_info": {
   "codemirror_mode": {
    "name": "ipython",
    "version": 3
   },
   "file_extension": ".py",
   "mimetype": "text/x-python",
   "name": "python",
   "nbconvert_exporter": "python",
   "pygments_lexer": "ipython3",
   "version": "3.6.3"
  }
 },
 "nbformat": 4,
 "nbformat_minor": 2
}
